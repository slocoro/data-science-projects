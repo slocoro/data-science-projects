{
 "cells": [
  {
   "cell_type": "markdown",
   "metadata": {},
   "source": [
    "## Trump tweets sentiment analysis"
   ]
  },
  {
   "cell_type": "code",
   "execution_count": 1,
   "metadata": {
    "collapsed": false
   },
   "outputs": [],
   "source": [
    "import tweepy\n",
    "from textblob import TextBlob\n",
    "import pandas as pd\n",
    "import numpy as np\n",
    "from matplotlib import pyplot as plt\n",
    "\n",
    "%matplotlib inline"
   ]
  },
  {
   "cell_type": "code",
   "execution_count": 2,
   "metadata": {
    "collapsed": false
   },
   "outputs": [],
   "source": [
    "consumer_key = 'Tk6xb0OkB5RP028w6syAGwpEP'\n",
    "consumer_secret = 'mdC7cmpjEShS6RzKnREMQFmYnpMWrdXCaSfUCOsZMGxCM7fO0n'\n",
    "\n",
    "access_token = '41552778-vmi4Nn4qX2B0x1e91kVv8Fx92FgeJNEp1Q2snynRb'\n",
    "access_token_secret = 'GTejvjduTfb3htKcPv4sq5hSOoIg5fuMkmmaB0GT0LRzt'\n",
    "\n",
    "auth = tweepy.OAuthHandler(consumer_key, consumer_secret)\n",
    "auth.set_access_token(access_token, access_token_secret)\n",
    "\n",
    "api = tweepy.API(auth)"
   ]
  },
  {
   "cell_type": "markdown",
   "metadata": {},
   "source": [
    "Now, we search tweets that contain the keyword 'Trump'."
   ]
  },
  {
   "cell_type": "code",
   "execution_count": 3,
   "metadata": {
    "collapsed": true
   },
   "outputs": [],
   "source": [
    "public_tweets = api.search('#Trump', count = 100)"
   ]
  },
  {
   "cell_type": "markdown",
   "metadata": {},
   "source": [
    "Print out a couple of the retreived tweets."
   ]
  },
  {
   "cell_type": "code",
   "execution_count": 4,
   "metadata": {
    "collapsed": false
   },
   "outputs": [
    {
     "name": "stdout",
     "output_type": "stream",
     "text": [
      "RT @jameshaning: Donald #Trump is a stupid man's idea of a smart man, a poor man's idea of a rich man, and a weak man's idea of a strong ma…\n",
      "RT @chuckwoolery: I am glad to hear that #Trump was outraged by #Sessions recusing himself. He was not for that. They say he went ballistic…\n",
      "Cuando sientes que los tweets de Tu viejo se parecen demasiado a los de #Trump\n",
      "RT @2ALAW: It Is Now Apparent That It Never Was The Russians Trying To \"Fix\" The Election -\n",
      "It Was Barack Hussein Obama\n",
      "\n",
      "#Trump 🇺🇸\n",
      "#WireTap…\n",
      "RT @Uncle_Jimbo: And he's still lying \n",
      "\n",
      "#Obama team never expected #Trump to win\n",
      "\n",
      "Now their dirty tricks against @POTUS are coming out http…\n",
      "RT @nia4_trump: James Clapper \"can deny\" a #Trump #wiretap to @chucktodd 🤔But, under oath Clapper LIED about the NSA internet spying progra…\n",
      "RT @amjoyshow: Over 120 retired generals have signed a letter opposing #Trump's huge proposed cuts to the State Department #AMJoy https://t…\n",
      "RT @PeterTownsend7: PC Logic' and #ISIS #muslim   #trump #isis #pjnet  https://t.co/WaYaEzK5EH https://t.co/cwh193acUU\n",
      "RT @chuckwoolery: I am glad to hear that #Trump was outraged by #Sessions recusing himself. He was not for that. They say he went ballistic…\n",
      "#trump #putin #trumputin #ballpointpen #drawings #peekasso #art https://t.co/snYyVEporR\n"
     ]
    }
   ],
   "source": [
    "for i, tweet in enumerate(public_tweets):\n",
    "    if i % 10 == 0:\n",
    "        print(tweet.text)"
   ]
  },
  {
   "cell_type": "markdown",
   "metadata": {},
   "source": [
    "Next, we try to analyze the tweets using TextBlob sentiment analysis method."
   ]
  },
  {
   "cell_type": "code",
   "execution_count": 5,
   "metadata": {
    "collapsed": false
   },
   "outputs": [],
   "source": [
    "li = []\n",
    "\n",
    "for tweet in public_tweets:\n",
    "    internal_li = []\n",
    "    internal_li.append(tweet.text)\n",
    "    analyze = TextBlob(tweet.text)\n",
    "    internal_li.append(analyze.sentiment.polarity)\n",
    "    internal_li.append(analyze.sentiment.subjectivity)\n",
    "    \n",
    "    li.append(internal_li)\n",
    "    \n",
    "df = pd.DataFrame(li, columns= ['Tweet', 'Polarity', 'Subjectivity'])"
   ]
  },
  {
   "cell_type": "markdown",
   "metadata": {},
   "source": [
    "Create a column that indicated whether or not a tweet has a negative sentiment or not (1 = negative, 0 = not negative)."
   ]
  },
  {
   "cell_type": "code",
   "execution_count": 6,
   "metadata": {
    "collapsed": false
   },
   "outputs": [
    {
     "data": {
      "text/html": [
       "<div>\n",
       "<table border=\"1\" class=\"dataframe\">\n",
       "  <thead>\n",
       "    <tr style=\"text-align: right;\">\n",
       "      <th></th>\n",
       "      <th>Tweet</th>\n",
       "      <th>Polarity</th>\n",
       "      <th>Subjectivity</th>\n",
       "      <th>Negative Sentiment</th>\n",
       "    </tr>\n",
       "  </thead>\n",
       "  <tbody>\n",
       "    <tr>\n",
       "      <th>0</th>\n",
       "      <td>RT @jameshaning: Donald #Trump is a stupid man...</td>\n",
       "      <td>-0.092063</td>\n",
       "      <td>0.725198</td>\n",
       "      <td>Negative Sentiment</td>\n",
       "    </tr>\n",
       "    <tr>\n",
       "      <th>1</th>\n",
       "      <td>RT @Uncle_Jimbo: And he's still lying \\n\\n#Oba...</td>\n",
       "      <td>0.083333</td>\n",
       "      <td>0.533333</td>\n",
       "      <td>Neutral/Positive Sentiment</td>\n",
       "    </tr>\n",
       "    <tr>\n",
       "      <th>2</th>\n",
       "      <td>Those trying to blame #Trump for racist attack...</td>\n",
       "      <td>0.000000</td>\n",
       "      <td>0.000000</td>\n",
       "      <td>Neutral/Positive Sentiment</td>\n",
       "    </tr>\n",
       "    <tr>\n",
       "      <th>3</th>\n",
       "      <td>RT @DumpTrump22: How long will our government ...</td>\n",
       "      <td>-0.016667</td>\n",
       "      <td>0.233333</td>\n",
       "      <td>Negative Sentiment</td>\n",
       "    </tr>\n",
       "    <tr>\n",
       "      <th>4</th>\n",
       "      <td>RT @DrMartyFox: Muslim Who Sexually Assualted ...</td>\n",
       "      <td>0.300000</td>\n",
       "      <td>0.516667</td>\n",
       "      <td>Neutral/Positive Sentiment</td>\n",
       "    </tr>\n",
       "  </tbody>\n",
       "</table>\n",
       "</div>"
      ],
      "text/plain": [
       "                                               Tweet  Polarity  Subjectivity  \\\n",
       "0  RT @jameshaning: Donald #Trump is a stupid man... -0.092063      0.725198   \n",
       "1  RT @Uncle_Jimbo: And he's still lying \\n\\n#Oba...  0.083333      0.533333   \n",
       "2  Those trying to blame #Trump for racist attack...  0.000000      0.000000   \n",
       "3  RT @DumpTrump22: How long will our government ... -0.016667      0.233333   \n",
       "4  RT @DrMartyFox: Muslim Who Sexually Assualted ...  0.300000      0.516667   \n",
       "\n",
       "           Negative Sentiment  \n",
       "0          Negative Sentiment  \n",
       "1  Neutral/Positive Sentiment  \n",
       "2  Neutral/Positive Sentiment  \n",
       "3          Negative Sentiment  \n",
       "4  Neutral/Positive Sentiment  "
      ]
     },
     "execution_count": 6,
     "metadata": {},
     "output_type": "execute_result"
    }
   ],
   "source": [
    "df['Negative Sentiment'] = np.where(df['Polarity'] < 0, 'Negative Sentiment', 'Neutral/Positive Sentiment')\n",
    "df.head()"
   ]
  },
  {
   "cell_type": "markdown",
   "metadata": {},
   "source": [
    "Show prevalence of negative tweets."
   ]
  },
  {
   "cell_type": "code",
   "execution_count": 7,
   "metadata": {
    "collapsed": false
   },
   "outputs": [
    {
     "data": {
      "text/plain": [
       "<matplotlib.axes._subplots.AxesSubplot at 0x113ca9400>"
      ]
     },
     "execution_count": 7,
     "metadata": {},
     "output_type": "execute_result"
    },
    {
     "data": {
      "image/png": "[encoded data removed]",
      "text/plain": [
       "<matplotlib.figure.Figure at 0x112ade7b8>"
      ]
     },
     "metadata": {},
     "output_type": "display_data"
    }
   ],
   "source": [
    "df['Negative Sentiment'].value_counts().plot(kind='barh', title='Sentiment Analysis for Tweets including #Trump')"
   ]
  },
  {
   "cell_type": "markdown",
   "metadata": {},
   "source": [
    "TextBlob might not be as efficient for analyzing short tweets..."
   ]
  },
  {
   "cell_type": "code",
   "execution_count": null,
   "metadata": {
    "collapsed": true
   },
   "outputs": [],
   "source": []
  }
 ],
 "metadata": {
  "anaconda-cloud": {},
  "kernelspec": {
   "display_name": "Python [Root]",
   "language": "python",
   "name": "Python [Root]"
  },
  "language_info": {
   "codemirror_mode": {
    "name": "ipython",
    "version": 3
   },
   "file_extension": ".py",
   "mimetype": "text/x-python",
   "name": "python",
   "nbconvert_exporter": "python",
   "pygments_lexer": "ipython3",
   "version": "3.5.2"
  }
 },
 "nbformat": 4,
 "nbformat_minor": 0
}
